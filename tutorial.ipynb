{
 "cells": [
  {
   "cell_type": "code",
   "execution_count": 1,
   "metadata": {},
   "outputs": [],
   "source": [
    "from ipywidgets import interact"
   ]
  },
  {
   "cell_type": "code",
   "execution_count": 2,
   "metadata": {},
   "outputs": [],
   "source": [
    "def square(x):\n",
    "    return x * x"
   ]
  },
  {
   "cell_type": "code",
   "execution_count": 3,
   "metadata": {},
   "outputs": [
    {
     "data": {
      "application/vnd.jupyter.widget-view+json": {
       "model_id": "031e1b69c2794f35857a0f6e83abaf7b",
       "version_major": 2,
       "version_minor": 0
      },
      "text/plain": [
       "interactive(children=(IntSlider(value=50, description='x', step=10), Output()), _dom_classes=('widget-interact…"
      ]
     },
     "metadata": {},
     "output_type": "display_data"
    },
    {
     "data": {
      "text/plain": [
       "<function __main__.square(x)>"
      ]
     },
     "execution_count": 3,
     "metadata": {},
     "output_type": "execute_result"
    }
   ],
   "source": [
    "interact(square, x=(0, 100, 10))"
   ]
  }
 ],
 "metadata": {
  "kernelspec": {
   "display_name": "Python 3",
   "language": "python",
   "name": "python3"
  },
  "language_info": {
   "codemirror_mode": {
    "name": "ipython",
    "version": 3
   },
   "file_extension": ".py",
   "mimetype": "text/x-python",
   "name": "python",
   "nbconvert_exporter": "python",
   "pygments_lexer": "ipython3",
   "version": "3.8.5"
  },
  "widgets": {
   "application/vnd.jupyter.widget-state+json": {
    "state": {
     "0653d6277d0a4e068c5c69aae35c5c27": {
      "model_module": "@jupyter-widgets/controls",
      "model_module_version": "1.5.0",
      "model_name": "IntSliderModel",
      "state": {
       "layout": "IPY_MODEL_ab84f710344a4b45ac1ec1b52d14d1b7",
       "max": 200,
       "style": "IPY_MODEL_a372b3ee14874717bc75e64a56bb0451",
       "value": 100
      }
     },
     "0e3c98ea641f4febb6b12dabcd50d2ff": {
      "model_module": "@jupyter-widgets/controls",
      "model_module_version": "1.5.0",
      "model_name": "VBoxModel",
      "state": {
       "_dom_classes": [
        "widget-interact"
       ],
       "children": [
        "IPY_MODEL_0e806224bd7349e88ce94a168ac2e774",
        "IPY_MODEL_19fc9df3ed384fea8e288630e867d590"
       ],
       "layout": "IPY_MODEL_5a8d4a9c57394743b046a05d27141925"
      }
     },
     "0e806224bd7349e88ce94a168ac2e774": {
      "model_module": "@jupyter-widgets/controls",
      "model_module_version": "1.5.0",
      "model_name": "IntSliderModel",
      "state": {
       "description": "x",
       "layout": "IPY_MODEL_62af7305c07249eaa9e25d98a2475f3b",
       "max": 30,
       "min": -10,
       "style": "IPY_MODEL_76ef937ccdd242a8bc2014bc0e2d156c",
       "value": 10
      }
     },
     "0eafb9d092f541f59c16cd37490967eb": {
      "model_module": "@jupyter-widgets/base",
      "model_module_version": "1.2.0",
      "model_name": "LayoutModel",
      "state": {}
     },
     "0fac34aa8b8643e49550a253ec40978a": {
      "model_module": "@jupyter-widgets/base",
      "model_module_version": "1.2.0",
      "model_name": "LayoutModel",
      "state": {}
     },
     "136158306f044e6a8cf8c4ba64442013": {
      "model_module": "@jupyter-widgets/output",
      "model_module_version": "1.0.0",
      "model_name": "OutputModel",
      "state": {
       "layout": "IPY_MODEL_f0bc0399a800412caa27ba4a5b983aaf",
       "outputs": [
        {
         "data": {
          "text/plain": "2500"
         },
         "metadata": {},
         "output_type": "display_data"
        }
       ]
      }
     },
     "182e2b2f80014688bb686c264f965545": {
      "model_module": "@jupyter-widgets/output",
      "model_module_version": "1.0.0",
      "model_name": "OutputModel",
      "state": {
       "layout": "IPY_MODEL_c08bd20206fa46c7b1389726dc70c922",
       "outputs": [
        {
         "data": {
          "text/plain": "0"
         },
         "metadata": {},
         "output_type": "display_data"
        }
       ]
      }
     },
     "19fc9df3ed384fea8e288630e867d590": {
      "model_module": "@jupyter-widgets/output",
      "model_module_version": "1.0.0",
      "model_name": "OutputModel",
      "state": {
       "layout": "IPY_MODEL_a7c05eb8d932472f8442028602151f49",
       "outputs": [
        {
         "data": {
          "text/plain": "100"
         },
         "metadata": {},
         "output_type": "display_data"
        }
       ]
      }
     },
     "318fe4ea33624eaea298c36d364e7db0": {
      "model_module": "@jupyter-widgets/base",
      "model_module_version": "1.2.0",
      "model_name": "LayoutModel",
      "state": {}
     },
     "422beab007ef47c18f3ba730da666daa": {
      "model_module": "@jupyter-widgets/base",
      "model_module_version": "1.2.0",
      "model_name": "LayoutModel",
      "state": {}
     },
     "4cbd29ceb2234d3e90da0e59cea5ab6e": {
      "model_module": "@jupyter-widgets/controls",
      "model_module_version": "1.5.0",
      "model_name": "SliderStyleModel",
      "state": {
       "description_width": ""
      }
     },
     "53773c48c5804307b8c4f51532aa34bf": {
      "model_module": "@jupyter-widgets/controls",
      "model_module_version": "1.5.0",
      "model_name": "SliderStyleModel",
      "state": {
       "description_width": ""
      }
     },
     "5a8d4a9c57394743b046a05d27141925": {
      "model_module": "@jupyter-widgets/base",
      "model_module_version": "1.2.0",
      "model_name": "LayoutModel",
      "state": {}
     },
     "62af7305c07249eaa9e25d98a2475f3b": {
      "model_module": "@jupyter-widgets/base",
      "model_module_version": "1.2.0",
      "model_name": "LayoutModel",
      "state": {}
     },
     "6d341885f4964fb0b390b4e1b43855e0": {
      "model_module": "@jupyter-widgets/controls",
      "model_module_version": "1.5.0",
      "model_name": "IntSliderModel",
      "state": {
       "layout": "IPY_MODEL_e08bc0ddb9cf4007be2cabcd7be56162",
       "style": "IPY_MODEL_a8331ce3d3874ff6a94b7d3dc2240a51",
       "value": 40
      }
     },
     "71c7a7db52f34b75ab52aa09e11d60d4": {
      "model_module": "@jupyter-widgets/controls",
      "model_module_version": "1.5.0",
      "model_name": "VBoxModel",
      "state": {
       "_dom_classes": [
        "widget-interact"
       ],
       "children": [
        "IPY_MODEL_d3f9d7edb08c43049142ac79df41004e",
        "IPY_MODEL_182e2b2f80014688bb686c264f965545"
       ],
       "layout": "IPY_MODEL_422beab007ef47c18f3ba730da666daa"
      }
     },
     "76ef937ccdd242a8bc2014bc0e2d156c": {
      "model_module": "@jupyter-widgets/controls",
      "model_module_version": "1.5.0",
      "model_name": "SliderStyleModel",
      "state": {
       "description_width": ""
      }
     },
     "7d915398b91e4cea9881415b0611898e": {
      "model_module": "@jupyter-widgets/controls",
      "model_module_version": "1.5.0",
      "model_name": "SliderStyleModel",
      "state": {
       "description_width": ""
      }
     },
     "8380b6a6fa494633a18aea2e42193711": {
      "model_module": "@jupyter-widgets/controls",
      "model_module_version": "1.5.0",
      "model_name": "IntSliderModel",
      "state": {
       "description": "x",
       "layout": "IPY_MODEL_318fe4ea33624eaea298c36d364e7db0",
       "step": 10,
       "style": "IPY_MODEL_53773c48c5804307b8c4f51532aa34bf",
       "value": 50
      }
     },
     "a372b3ee14874717bc75e64a56bb0451": {
      "model_module": "@jupyter-widgets/controls",
      "model_module_version": "1.5.0",
      "model_name": "SliderStyleModel",
      "state": {
       "description_width": ""
      }
     },
     "a7c05eb8d932472f8442028602151f49": {
      "model_module": "@jupyter-widgets/base",
      "model_module_version": "1.2.0",
      "model_name": "LayoutModel",
      "state": {}
     },
     "a8331ce3d3874ff6a94b7d3dc2240a51": {
      "model_module": "@jupyter-widgets/controls",
      "model_module_version": "1.5.0",
      "model_name": "SliderStyleModel",
      "state": {
       "description_width": ""
      }
     },
     "ab84f710344a4b45ac1ec1b52d14d1b7": {
      "model_module": "@jupyter-widgets/base",
      "model_module_version": "1.2.0",
      "model_name": "LayoutModel",
      "state": {}
     },
     "ac99320e16024b1299bcb89252eebe0a": {
      "model_module": "@jupyter-widgets/controls",
      "model_module_version": "1.5.0",
      "model_name": "IntSliderModel",
      "state": {
       "layout": "IPY_MODEL_e92f217e460e4f94b9b656b7da02d775",
       "max": 200,
       "style": "IPY_MODEL_7d915398b91e4cea9881415b0611898e",
       "value": 100
      }
     },
     "c08bd20206fa46c7b1389726dc70c922": {
      "model_module": "@jupyter-widgets/base",
      "model_module_version": "1.2.0",
      "model_name": "LayoutModel",
      "state": {}
     },
     "d3f9d7edb08c43049142ac79df41004e": {
      "model_module": "@jupyter-widgets/controls",
      "model_module_version": "1.5.0",
      "model_name": "IntSliderModel",
      "state": {
       "description": "x",
       "layout": "IPY_MODEL_0eafb9d092f541f59c16cd37490967eb",
       "max": 30,
       "min": -10,
       "style": "IPY_MODEL_4cbd29ceb2234d3e90da0e59cea5ab6e"
      }
     },
     "e08bc0ddb9cf4007be2cabcd7be56162": {
      "model_module": "@jupyter-widgets/base",
      "model_module_version": "1.2.0",
      "model_name": "LayoutModel",
      "state": {}
     },
     "e92f217e460e4f94b9b656b7da02d775": {
      "model_module": "@jupyter-widgets/base",
      "model_module_version": "1.2.0",
      "model_name": "LayoutModel",
      "state": {}
     },
     "f0bc0399a800412caa27ba4a5b983aaf": {
      "model_module": "@jupyter-widgets/base",
      "model_module_version": "1.2.0",
      "model_name": "LayoutModel",
      "state": {}
     },
     "f482532e1ba548a099c025cd16812339": {
      "model_module": "@jupyter-widgets/controls",
      "model_module_version": "1.5.0",
      "model_name": "VBoxModel",
      "state": {
       "_dom_classes": [
        "widget-interact"
       ],
       "children": [
        "IPY_MODEL_8380b6a6fa494633a18aea2e42193711",
        "IPY_MODEL_136158306f044e6a8cf8c4ba64442013"
       ],
       "layout": "IPY_MODEL_0fac34aa8b8643e49550a253ec40978a"
      }
     }
    },
    "version_major": 2,
    "version_minor": 0
   }
  }
 },
 "nbformat": 4,
 "nbformat_minor": 4
}
